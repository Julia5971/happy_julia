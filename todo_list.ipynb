{
  "nbformat": 4,
  "nbformat_minor": 0,
  "metadata": {
    "colab": {
      "provenance": [],
      "authorship_tag": "ABX9TyPOTEsIV9hxlgb76fPKGNMb",
      "include_colab_link": true
    },
    "kernelspec": {
      "name": "python3",
      "display_name": "Python 3"
    },
    "language_info": {
      "name": "python"
    }
  },
  "cells": [
    {
      "cell_type": "markdown",
      "metadata": {
        "id": "view-in-github",
        "colab_type": "text"
      },
      "source": [
        "<a href=\"https://colab.research.google.com/github/Julia5971/happy_julia/blob/main/todo_list.ipynb\" target=\"_parent\"><img src=\"https://colab.research.google.com/assets/colab-badge.svg\" alt=\"Open In Colab\"/></a>"
      ]
    },
    {
      "cell_type": "code",
      "execution_count": 4,
      "metadata": {
        "id": "jrIn2TH81ZIp"
      },
      "outputs": [],
      "source": [
        "# Global instance of ToDoList\n",
        "to_do_list = ToDoList()\n",
        "\n",
        "def main_menu():\n",
        "    print(\"\"\"\n",
        "    To Do List Application\n",
        "    ----------------------\n",
        "    1. List all tasks\n",
        "    2. Add a new task\n",
        "    3. Mark task as completed\n",
        "    4. Delete a task\n",
        "    5. Exit\n",
        "    \"\"\")\n",
        "    choice = input(\"Enter your choice: \")\n",
        "    if choice == '1':\n",
        "        to_do_list.list_tasks()\n",
        "    elif choice == '2':\n",
        "        task = input(\"Enter the task description: \")\n",
        "        to_do_list.add_task(task)\n",
        "    elif choice == '3':\n",
        "        to_do_list.list_tasks()\n",
        "        if to_do_list.tasks:\n",
        "            task_index = int(input(\"Enter the number of the task to mark as completed: \")) - 1\n",
        "            to_do_list.complete_task(task_index)\n",
        "    elif choice == '4':\n",
        "        to_do_list.list_tasks()\n",
        "        if to_do_list.tasks:\n",
        "            task_index = int(input(\"Enter the number of the task to delete: \")) - 1\n",
        "            to_do_list.delete_task(task_index)\n",
        "    elif choice == '5':\n",
        "        print(\"Exiting the application.\")\n",
        "        # In Colab, there's no need for a \"break\" since there's no loop.\n",
        "        # Instead, we'll just return to finish the function.\n",
        "        return\n",
        "    else:\n",
        "        print(\"Invalid choice. Please try again.\")"
      ]
    }
  ]
}