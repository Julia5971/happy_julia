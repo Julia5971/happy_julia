{
  "cells": [
    {
      "cell_type": "markdown",
      "metadata": {
        "id": "view-in-github",
        "colab_type": "text"
      },
      "source": [
        "<a href=\"https://colab.research.google.com/github/Julia5971/happy_julia/blob/main/%EB%AC%B8%EC%9E%90%EC%97%B4(String)_ipynb%EC%9D%98_%EC%82%AC%EB%B3%B8%EC%9D%98_%EC%82%AC%EB%B3%B8.ipynb\" target=\"_parent\"><img src=\"https://colab.research.google.com/assets/colab-badge.svg\" alt=\"Open In Colab\"/></a>"
      ]
    },
    {
      "cell_type": "code",
      "execution_count": null,
      "metadata": {
        "id": "EWVJj7laLlfj"
      },
      "outputs": [],
      "source": []
    },
    {
      "cell_type": "markdown",
      "metadata": {
        "id": "3qCZbCtMLn66"
      },
      "source": [
        "# 문자열(String)\n",
        "\"\"\"[링크 텍스트](https://wikidocs.net/13#_1)\"\"\""
      ]
    },
    {
      "cell_type": "code",
      "execution_count": null,
      "metadata": {
        "colab": {
          "base_uri": "https://localhost:8080/"
        },
        "id": "4QlEsuA4L8us",
        "outputId": "90a724c9-9a38-4e15-b702-464979f1f68a"
      },
      "outputs": [
        {
          "name": "stdout",
          "output_type": "stream",
          "text": [
            "Hello World\n"
          ]
        }
      ],
      "source": [
        "#큰따옴표로 양쪽 감싸기\n",
        "a=\"Hello World\"\n",
        "print(a)"
      ]
    },
    {
      "cell_type": "code",
      "execution_count": null,
      "metadata": {
        "colab": {
          "base_uri": "https://localhost:8080/"
        },
        "id": "a5_f6rjeM9kr",
        "outputId": "d388541e-fd1b-439c-db0c-2b886fb69d39"
      },
      "outputs": [
        {
          "name": "stdout",
          "output_type": "stream",
          "text": [
            "Hello World\n"
          ]
        }
      ],
      "source": [
        "a='Hello World'\n",
        "print(a)"
      ]
    },
    {
      "cell_type": "code",
      "execution_count": null,
      "metadata": {
        "colab": {
          "base_uri": "https://localhost:8080/"
        },
        "id": "-wMb7Lz2dYF4",
        "outputId": "da6f5f0a-1537-4136-924b-0c383b479efa"
      },
      "outputs": [
        {
          "name": "stdout",
          "output_type": "stream",
          "text": [
            "Hello World\n"
          ]
        }
      ],
      "source": [
        "a=\"\"\"Hello World\"\"\"\n",
        "print(a)"
      ]
    },
    {
      "cell_type": "code",
      "execution_count": null,
      "metadata": {
        "colab": {
          "base_uri": "https://localhost:8080/"
        },
        "id": "N5I3d6KzddDz",
        "outputId": "26c52bdd-58e3-4b2e-b3ac-67c609888d17"
      },
      "outputs": [
        {
          "name": "stdout",
          "output_type": "stream",
          "text": [
            "Hello World\n"
          ]
        }
      ],
      "source": [
        "a='''Hello World'''\n",
        "print(a)"
      ]
    },
    {
      "cell_type": "code",
      "execution_count": null,
      "metadata": {
        "colab": {
          "base_uri": "https://localhost:8080/"
        },
        "id": "UmpjLFDsdp9w",
        "outputId": "cdab09e0-f3ba-4431-f19c-c8a032977e68"
      },
      "outputs": [
        {
          "name": "stdout",
          "output_type": "stream",
          "text": [
            "Python's favorite food is perl\n"
          ]
        }
      ],
      "source": [
        "#문자열에 작은따옴표 포함하기 : Python's favorite food is perl\n",
        "\"\"\"위와 같은 문자열을 food 변수에 저장하고 싶다고 가정해 보자. 문자열 중 Python's에 작은따옴표(')가 포함되어 있다.\n",
        "이 경우에는 문자열을 큰따옴표로 둘러싸야 한다. 큰따옴표 안에 들어 있는 작은따옴표는 문자열을 나타내기 위한 기호로 인식되지 않는다. 대화형 인터프리터를 열고 다음과 같이 입력해 보자.\"\"\"\n",
        "\n",
        "a=\"Python's favorite food is perl\"\n",
        "print(a)"
      ]
    },
    {
      "cell_type": "code",
      "execution_count": null,
      "metadata": {
        "colab": {
          "base_uri": "https://localhost:8080/",
          "height": 110
        },
        "id": "85xb0H8_egAO",
        "outputId": "49244673-313f-40a6-ba80-40f1f5071dd8"
      },
      "outputs": [
        {
          "ename": "SyntaxError",
          "evalue": "unterminated string literal (detected at line 1) (<ipython-input-15-3f58b580efd8>, line 1)",
          "output_type": "error",
          "traceback": [
            "\u001b[0;36m  File \u001b[0;32m\"<ipython-input-15-3f58b580efd8>\"\u001b[0;36m, line \u001b[0;32m1\u001b[0m\n\u001b[0;31m    a='Python's favorite food is perl'\u001b[0m\n\u001b[0m                                     ^\u001b[0m\n\u001b[0;31mSyntaxError\u001b[0m\u001b[0;31m:\u001b[0m unterminated string literal (detected at line 1)\n"
          ]
        }
      ],
      "source": [
        "#Python's favorite food is perl 문구를 작은 따옴표로 표시하면 에러\n",
        "a='Python's favorite food is perl'\n",
        "print(a)"
      ]
    },
    {
      "cell_type": "code",
      "execution_count": null,
      "metadata": {
        "colab": {
          "base_uri": "https://localhost:8080/"
        },
        "id": "HJAhaRv-e68Y",
        "outputId": "fe7f9be7-85a8-4d42-a5a1-64dba499f9ba"
      },
      "outputs": [
        {
          "name": "stdout",
          "output_type": "stream",
          "text": [
            "Python's favorite food is peral.\n",
            "\"Python is very easy.\" he says.\n"
          ]
        }
      ],
      "source": [
        "#역슬래시(\\\")를 사용해서 작은따옴표와 큰따옴표를 문자열에 포함하기\n",
        "#Python's favorite food is peral.\n",
        "#\"Python is very easy.\" he says.\n",
        "a='Python\\'s favorite food is peral.'\n",
        "print(a)\n",
        "\n",
        "a=\"\\\"Python is very easy.\\\" he says.\"\n",
        "print(a)"
      ]
    },
    {
      "cell_type": "code",
      "execution_count": null,
      "metadata": {
        "colab": {
          "base_uri": "https://localhost:8080/"
        },
        "id": "ZDs2qVQegMXk",
        "outputId": "87163475-e0f2-4355-8317-cc7e4f91408e"
      },
      "outputs": [
        {
          "name": "stdout",
          "output_type": "stream",
          "text": [
            "\"Python is very easy.\" he says.\n",
            "\"Python is very easy.\" he says.\n"
          ]
        }
      ],
      "source": [
        "#문자열에 큰따옴표 포함하기:\"Python is very easy.\" he says.\n",
        "say = '\"Python is very easy.\" he says.'\n",
        "print(say)\n",
        "say = \"\\\"Python is very easy.\\\" he says.\"\n",
        "print(say)"
      ]
    },
    {
      "cell_type": "code",
      "execution_count": null,
      "metadata": {
        "colab": {
          "base_uri": "https://localhost:8080/"
        },
        "id": "g0FvSGZlgvYL",
        "outputId": "e0e9a0ec-0c61-4778-93b9-9662d67e8754"
      },
      "outputs": [
        {
          "name": "stdout",
          "output_type": "stream",
          "text": [
            "Life is too short\n",
            "You need python\n",
            "\n",
            "  Life is too short\n",
            "  You need python\n",
            "\n",
            "\n",
            "  Life is too short\n",
            "  You need python\n",
            "\n"
          ]
        }
      ],
      "source": [
        "#여러 줄인 문자열을 변수에 대입하고 싶을 때\n",
        "\n",
        "#Life is too short\n",
        "#You need python\n",
        "\n",
        "#줄을 바꾸기 위한 이스케이프 코드 \\n 삽입하기(\\n\t문자열 안에서 줄을 바꿀 때 사용)\n",
        "\n",
        "multiline = \"Life is too short\\nYou need python\"\n",
        "print(multiline)\n",
        "\n",
        "#줄바꿈 문자인 \\n을 삽입하는 방법이 있지만, 읽기가 불편하고 줄이 길어지는 단점이 있다.\n",
        "\n",
        "#연속된 작은따옴표 3개 또는 큰따옴표 3개 사용하기\n",
        "#\\n(이스케이프코드) 단점을 극복하기 위해 파이썬에서는 다음과 같이 작은따옴표 3개(''') 또는 큰따옴표 3개(\"\"\")를 사용한다.\n",
        "\n",
        "#작은따옴표 사용의 경우'\n",
        "multiline='''\n",
        "  Life is too short\n",
        "  You need python\n",
        "'''\n",
        "print(multiline)\n",
        "\n",
        "#큰따옴표 사용의 경우\"\n",
        "multiline=\"\"\"\n",
        "  Life is too short\n",
        "  You need python\n",
        "\"\"\"\n",
        "print(multiline)\n",
        "\n",
        "#두 경우 모두 결과는 동일하다. 위 예에서도 확인할 수 있듯이 문자열이 여러 줄인 경우,\n",
        "#이스케이프 코드를 쓰는 것보다 따옴표 3개를 사용하는 것이 훨씬 깔끔하다."
      ]
    },
    {
      "cell_type": "code",
      "execution_count": null,
      "metadata": {
        "colab": {
          "base_uri": "https://localhost:8080/"
        },
        "id": "r3lg-2u6h-tw",
        "outputId": "e1cdfeca-405a-4c78-dab4-a834adef9b73"
      },
      "outputs": [
        {
          "name": "stdout",
          "output_type": "stream",
          "text": [
            "Python is fun!\n",
            "pythonpython\n"
          ]
        }
      ],
      "source": [
        "#문자열 연산하기\n",
        "#파이썬만의 장점: 문자열을 더하거나 곱할 수 있다\n",
        "#문자열 더해서 연결하기\n",
        "\n",
        "head = \"Python\"\n",
        "tail = \" is fun!\"\n",
        "print(head + tail)\n",
        "\n",
        "#문자열 곱하기\n",
        "\n",
        "a = \"python\"\n",
        "print(a * 2)\n",
        "\n"
      ]
    },
    {
      "cell_type": "code",
      "execution_count": null,
      "metadata": {
        "colab": {
          "base_uri": "https://localhost:8080/"
        },
        "id": "-NSnUEXOHjyb",
        "outputId": "ccebd3ab-027d-42d0-90c8-65eb16b8fcaa"
      },
      "outputs": [
        {
          "name": "stdout",
          "output_type": "stream",
          "text": [
            "==================================================\n",
            "My Program\n",
            "==================================================\n"
          ]
        }
      ],
      "source": [
        "#문자열 곱하기를 응용하기:  [실행 창 열기(윈도우 + R) → 'cmd' 입력 → Enter 입력]\n",
        "\n",
        "# multistring.py\n",
        "\n",
        "print(\"=\" * 50)\n",
        "print(\"My Program\")\n",
        "print(\"=\" * 50)\n"
      ]
    },
    {
      "cell_type": "code",
      "execution_count": null,
      "metadata": {
        "colab": {
          "base_uri": "https://localhost:8080/"
        },
        "id": "2WWo7GRkKd5n",
        "outputId": "3512e4b4-049b-42c4-da0b-bf2c933801a8"
      },
      "outputs": [
        {
          "data": {
            "text/plain": [
              "17"
            ]
          },
          "execution_count": 36,
          "metadata": {},
          "output_type": "execute_result"
        }
      ],
      "source": [
        "#문자열 길이 구하기: len함수로 구할수 있다/len함수는 python의 기본 내장함수로 print와 같이 별다른 설정 없이 바로사용\n",
        "#문자열의 길이에는 공백 문자도 포함된다.\n",
        "#\"파이썬은 0부터 숫자를 센다.\"\n",
        "#앞의 a[0]과 a[12]는 쉽게 이해할 수 있는데, 마지막의 a[-1]이 뜻하는 것은 뭘까?\n",
        "#눈치 빠른 독자는 이미 알아챘겠지만, 문자열을 뒤에서부터 읽기 위해 -(빼기) 기호를 붙인 것이다.\n",
        "#즉, a[-1]은 뒤에서부터 세어 첫 번째가 되는 문자를 말한다. a의 값은 \"Life is too short, You need Python\"\n",
        "#문자열이므로 뒤에서부터 첫 번째 문자는 가장 마지막 문자 'n'이다.\n",
        "#뒤에서부터 첫 번째 문자를 표시할 때도 0부터 세어 ‘a[-0]이라고 해야 하지 않을까?’라는 의문이 들 수도 있겠지만, 잘 생각해 보자.\n",
        "#0과 -0은 똑같은 것이기 때문에 a[-0]은 a[0]과 똑같은 값을 보여 준다.\n",
        "\n",
        "a = \"Life is too short\"\n",
        "len(a)"
      ]
    },
    {
      "cell_type": "code",
      "execution_count": null,
      "metadata": {
        "id": "eG-ZC86C-0JV"
      },
      "outputs": [],
      "source": [
        "###문자열 인덱싱\n",
        "#\"파이썬은 0부터 숫자를 센다.\"\n",
        "#앞의 a[0]과 a[12]는 쉽게 이해할 수 있는데, 마지막의 a[-1]이 뜻하는 것은 뭘까?\n",
        "#눈치 빠른 독자는 이미 알아챘겠지만, 문자열을 뒤에서부터 읽기 위해 -(빼기) 기호를 붙인 것이다.\n",
        "#즉, a[-1]은 뒤에서부터 세어 첫 번째가 되는 문자를 말한다. a의 값은 \"Life is too short, You need Python\"\n",
        "#문자열이므로 뒤에서부터 첫 번째 문자는 가장 마지막 문자 'n'이다.\n",
        "#뒤에서부터 첫 번째 문자를 표시할 때도 0부터 세어 ‘a[-0]이라고 해야 하지 않을까?’라는 의문이 들 수도 있겠지만, 잘 생각해 보자.\n",
        "#0과 -0은 똑같은 것이기 때문에 a[-0]은 a[0]과 똑같은 값을 보여 준다."
      ]
    },
    {
      "cell_type": "code",
      "execution_count": null,
      "metadata": {
        "colab": {
          "background_save": true,
          "base_uri": "https://localhost:8080/"
        },
        "id": "nxL358Gt_JDF",
        "outputId": "352ad8cc-9dfd-49bb-c566-2158c838d5c3"
      },
      "outputs": [
        {
          "data": {
            "application/vnd.google.colaboratory.intrinsic+json": {
              "type": "string"
            },
            "text/plain": [
              "'s'"
            ]
          },
          "execution_count": 2,
          "metadata": {},
          "output_type": "execute_result"
        }
      ],
      "source": [
        "a = \"Life is too short, You need Python\"\n",
        "a[3]\n"
      ]
    },
    {
      "cell_type": "markdown",
      "source": [
        "#리스트(List)"
      ],
      "metadata": {
        "id": "Jmr8Hnlg8Ue7"
      }
    },
    {
      "cell_type": "code",
      "execution_count": null,
      "metadata": {
        "colab": {
          "base_uri": "https://localhost:8080/",
          "height": 184
        },
        "id": "zMUbynA3_SIc",
        "outputId": "8e7d7a7d-4f09-433e-baa0-abb8d1b3345d"
      },
      "outputs": [
        {
          "output_type": "error",
          "ename": "TypeError",
          "evalue": "unsupported operand type(s) for +: 'int' and 'str'",
          "traceback": [
            "\u001b[0;31m---------------------------------------------------------------------------\u001b[0m",
            "\u001b[0;31mTypeError\u001b[0m                                 Traceback (most recent call last)",
            "\u001b[0;32m<ipython-input-6-1460dc1b7934>\u001b[0m in \u001b[0;36m<cell line: 5>\u001b[0;34m()\u001b[0m\n\u001b[1;32m      3\u001b[0m \u001b[0;34m\u001b[0m\u001b[0m\n\u001b[1;32m      4\u001b[0m \u001b[0ma\u001b[0m \u001b[0;34m=\u001b[0m \u001b[0;34m[\u001b[0m\u001b[0;36m1\u001b[0m\u001b[0;34m,\u001b[0m \u001b[0;36m2\u001b[0m\u001b[0;34m,\u001b[0m \u001b[0;36m3\u001b[0m\u001b[0;34m]\u001b[0m\u001b[0;34m\u001b[0m\u001b[0;34m\u001b[0m\u001b[0m\n\u001b[0;32m----> 5\u001b[0;31m \u001b[0ma\u001b[0m\u001b[0;34m[\u001b[0m\u001b[0;36m2\u001b[0m\u001b[0;34m]\u001b[0m \u001b[0;34m+\u001b[0m \u001b[0;34m\"hi\"\u001b[0m\u001b[0;34m\u001b[0m\u001b[0;34m\u001b[0m\u001b[0m\n\u001b[0m",
            "\u001b[0;31mTypeError\u001b[0m: unsupported operand type(s) for +: 'int' and 'str'"
          ]
        }
      ],
      "source": [
        "###리스트 자료형 문자열 자료형과 거의 비슷하다\n",
        "#다만 하기 부분은 주의 요망\n",
        "\n",
        "a = [1, 2, 3]\n",
        "a[2] + \"hi\"\n"
      ]
    },
    {
      "cell_type": "code",
      "source": [
        "#Type Error가 나왔다 int와 str은 같이 합쳐 질수 없다\n",
        "#이부분이 합쳐지려면 int를 str으로 만들어야 한다\n",
        "\n",
        "a = [1, 2, 3]\n",
        "a[2] = str(a[2])\n",
        "a[2] + \"hi\"\n"
      ],
      "metadata": {
        "colab": {
          "base_uri": "https://localhost:8080/",
          "height": 35
        },
        "id": "PrftCNtuQR8L",
        "outputId": "a6b81a8d-f53e-4c6c-b256-adba543b5eb2"
      },
      "execution_count": null,
      "outputs": [
        {
          "output_type": "execute_result",
          "data": {
            "text/plain": [
              "'3hi'"
            ],
            "application/vnd.google.colaboratory.intrinsic+json": {
              "type": "string"
            }
          },
          "metadata": {},
          "execution_count": 5
        }
      ]
    },
    {
      "cell_type": "code",
      "source": [
        ">>> a = {'name': 'pey', 'phone': '010-9999-1234', 'birth': '1118'}\n",
        ">>> a.keys()\n"
      ],
      "metadata": {
        "id": "6fc0_920QvKF",
        "colab": {
          "base_uri": "https://localhost:8080/"
        },
        "outputId": "d139034f-0061-41b5-9def-bf5f1e686f65"
      },
      "execution_count": null,
      "outputs": [
        {
          "output_type": "execute_result",
          "data": {
            "text/plain": [
              "dict_keys(['name', 'phone', 'birth'])"
            ]
          },
          "metadata": {},
          "execution_count": 2
        }
      ]
    },
    {
      "cell_type": "code",
      "source": [
        ">>> a = {'name': 'pey', 'phone': '010-9999-1234', 'birth': '1118'}\n",
        ">>> a.values()\n"
      ],
      "metadata": {
        "colab": {
          "base_uri": "https://localhost:8080/"
        },
        "id": "KFAEvP6-B_Ye",
        "outputId": "3e2af7d5-e6a7-4495-e91f-fd8a4cae56ca"
      },
      "execution_count": null,
      "outputs": [
        {
          "output_type": "execute_result",
          "data": {
            "text/plain": [
              "dict_values(['pey', '010-9999-1234', '1118'])"
            ]
          },
          "metadata": {},
          "execution_count": 4
        }
      ]
    },
    {
      "cell_type": "code",
      "source": [
        ">>> a = {'name': 'pey', 'phone': '010-9999-1234', 'birth': '1118'}\n",
        ">>> a.items()\n",
        "\n"
      ],
      "metadata": {
        "colab": {
          "base_uri": "https://localhost:8080/"
        },
        "id": "oGc36G7xCM_m",
        "outputId": "fac2bde3-002f-49da-aff9-e6563326f8e1"
      },
      "execution_count": null,
      "outputs": [
        {
          "output_type": "execute_result",
          "data": {
            "text/plain": [
              "dict_items([('name', 'pey'), ('phone', '010-9999-1234'), ('birth', '1118')])"
            ]
          },
          "metadata": {},
          "execution_count": 5
        }
      ]
    },
    {
      "cell_type": "code",
      "source": [],
      "metadata": {
        "id": "fEzkWXxuCdgW"
      },
      "execution_count": null,
      "outputs": []
    }
  ],
  "metadata": {
    "colab": {
      "toc_visible": true,
      "provenance": [],
      "authorship_tag": "ABX9TyOFkkylJIFD8USI9JUsYd+h",
      "include_colab_link": true
    },
    "kernelspec": {
      "display_name": "Python 3",
      "name": "python3"
    },
    "language_info": {
      "name": "python"
    }
  },
  "nbformat": 4,
  "nbformat_minor": 0
}